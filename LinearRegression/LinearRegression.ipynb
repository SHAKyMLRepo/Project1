{
 "cells": [
  {
   "cell_type": "markdown",
   "metadata": {},
   "source": [
    "# Linear Regression"
   ]
  },
  {
   "cell_type": "markdown",
   "metadata": {},
   "source": [
    "## Import Libraries"
   ]
  },
  {
   "cell_type": "code",
   "execution_count": 1,
   "metadata": {},
   "outputs": [],
   "source": [
    "# Importing the libraries\n",
    "import numpy as np\n",
    "import matplotlib.pyplot as plt\n",
    "import pandas as pd\n",
    "from sklearn import *\n"
   ]
  },
  {
   "cell_type": "markdown",
   "metadata": {},
   "source": [
    "## Import dataset"
   ]
  },
  {
   "cell_type": "code",
   "execution_count": 2,
   "metadata": {},
   "outputs": [],
   "source": [
    "ds = pd.read_csv(\"../ProcessedDatasets/pro_dataset.csv\")"
   ]
  },
  {
   "cell_type": "code",
   "execution_count": 3,
   "metadata": {},
   "outputs": [
    {
     "data": {
      "text/plain": [
       "0         1841\n",
       "1         1841\n",
       "2         1841\n",
       "3         1841\n",
       "4         1841\n",
       "          ... \n",
       "209846    2022\n",
       "209847    2022\n",
       "209848    2022\n",
       "209849    2022\n",
       "209850    2022\n",
       "Name: Year, Length: 209851, dtype: int64"
      ]
     },
     "execution_count": 3,
     "metadata": {},
     "output_type": "execute_result"
    }
   ],
   "source": [
    "ds['Year']"
   ]
  },
  {
   "cell_type": "markdown",
   "metadata": {},
   "source": [
    "## Predict Population"
   ]
  },
  {
   "cell_type": "markdown",
   "metadata": {},
   "source": [
    "### Set Variables\n",
    "<p>Set population as the dependent variable"
   ]
  },
  {
   "cell_type": "code",
   "execution_count": 4,
   "metadata": {},
   "outputs": [
    {
     "data": {
      "text/html": [
       "<div>\n",
       "<style scoped>\n",
       "    .dataframe tbody tr th:only-of-type {\n",
       "        vertical-align: middle;\n",
       "    }\n",
       "\n",
       "    .dataframe tbody tr th {\n",
       "        vertical-align: top;\n",
       "    }\n",
       "\n",
       "    .dataframe thead th {\n",
       "        text-align: right;\n",
       "    }\n",
       "</style>\n",
       "<table border=\"1\" class=\"dataframe\">\n",
       "  <thead>\n",
       "    <tr style=\"text-align: right;\">\n",
       "      <th></th>\n",
       "      <th>County</th>\n",
       "      <th>Year</th>\n",
       "    </tr>\n",
       "  </thead>\n",
       "  <tbody>\n",
       "    <tr>\n",
       "      <th>0</th>\n",
       "      <td>DONEGAL</td>\n",
       "      <td>1841</td>\n",
       "    </tr>\n",
       "    <tr>\n",
       "      <th>1</th>\n",
       "      <td>CAVAN</td>\n",
       "      <td>1841</td>\n",
       "    </tr>\n",
       "    <tr>\n",
       "      <th>2</th>\n",
       "      <td>SLIGO</td>\n",
       "      <td>1841</td>\n",
       "    </tr>\n",
       "    <tr>\n",
       "      <th>3</th>\n",
       "      <td>ROSCOMMON</td>\n",
       "      <td>1841</td>\n",
       "    </tr>\n",
       "    <tr>\n",
       "      <th>4</th>\n",
       "      <td>MAYO</td>\n",
       "      <td>1841</td>\n",
       "    </tr>\n",
       "    <tr>\n",
       "      <th>...</th>\n",
       "      <td>...</td>\n",
       "      <td>...</td>\n",
       "    </tr>\n",
       "    <tr>\n",
       "      <th>209846</th>\n",
       "      <td>KILDARE</td>\n",
       "      <td>2022</td>\n",
       "    </tr>\n",
       "    <tr>\n",
       "      <th>209847</th>\n",
       "      <td>DUBLIN</td>\n",
       "      <td>2022</td>\n",
       "    </tr>\n",
       "    <tr>\n",
       "      <th>209848</th>\n",
       "      <td>CARLOW</td>\n",
       "      <td>2022</td>\n",
       "    </tr>\n",
       "    <tr>\n",
       "      <th>209849</th>\n",
       "      <td>MONAGHAN</td>\n",
       "      <td>2022</td>\n",
       "    </tr>\n",
       "    <tr>\n",
       "      <th>209850</th>\n",
       "      <td>DONEGAL</td>\n",
       "      <td>2022</td>\n",
       "    </tr>\n",
       "  </tbody>\n",
       "</table>\n",
       "<p>209851 rows × 2 columns</p>\n",
       "</div>"
      ],
      "text/plain": [
       "           County  Year\n",
       "0         DONEGAL  1841\n",
       "1           CAVAN  1841\n",
       "2           SLIGO  1841\n",
       "3       ROSCOMMON  1841\n",
       "4            MAYO  1841\n",
       "...           ...   ...\n",
       "209846    KILDARE  2022\n",
       "209847     DUBLIN  2022\n",
       "209848     CARLOW  2022\n",
       "209849   MONAGHAN  2022\n",
       "209850    DONEGAL  2022\n",
       "\n",
       "[209851 rows x 2 columns]"
      ]
     },
     "execution_count": 4,
     "metadata": {},
     "output_type": "execute_result"
    }
   ],
   "source": [
    "#ds.iloc[:,5] #= Year -> Independent Variable\n",
    "#ds.iloc[:,[1,6]] #= County, Population -> Dependent Variables\n",
    "X= ds.iloc[:,[1,5]]   \n",
    "y = ds.iloc[:,6]\n",
    "X"
   ]
  },
  {
   "cell_type": "code",
   "execution_count": null,
   "metadata": {},
   "outputs": [],
   "source": [
    "###Note Linear Regression takes a 2d array so reshape x\n",
    "# -1 indicates length of the second dimension based on the length of the array,  1 indicates  one column.\n",
    "#X = x.reshape(-1,1)\n",
    "#x"
   ]
  },
  {
   "cell_type": "markdown",
   "metadata": {},
   "source": [
    "### Need to encode text values\n",
    "<p>As county is a categorical variable, one hot encoding will be used to change it to a numerical value"
   ]
  },
  {
   "cell_type": "code",
   "execution_count": 5,
   "metadata": {},
   "outputs": [],
   "source": [
    "# Encoding categorical data\n",
    "from sklearn.preprocessing import LabelEncoder,OneHotEncoder\n",
    "from sklearn.compose import make_column_transformer\n",
    "one = OneHotEncoder()\n",
    "#labelencoder = LabelEncoder()\n",
    "#X[:, 0] = labelencoder.fit_transform(X[:, 0])\n"
   ]
  },
  {
   "cell_type": "code",
   "execution_count": 7,
   "metadata": {},
   "outputs": [],
   "source": [
    "#Sets column transformer to apply encoder to county and pass every other column\n",
    "column_trans = make_column_transformer(\n",
    "    (one, ['County']),  \n",
    "    remainder='passthrough'\n",
    ")"
   ]
  },
  {
   "cell_type": "code",
   "execution_count": 8,
   "metadata": {},
   "outputs": [],
   "source": [
    "X = column_trans.fit_transform(X)"
   ]
  },
  {
   "cell_type": "markdown",
   "metadata": {},
   "source": [
    "<p>These where experiments with how to reshape array to pass to algorithm"
   ]
  },
  {
   "cell_type": "code",
   "execution_count": null,
   "metadata": {},
   "outputs": [],
   "source": [
    "#X = X[:, 1:]"
   ]
  },
  {
   "cell_type": "code",
   "execution_count": null,
   "metadata": {},
   "outputs": [],
   "source": [
    "#X = X.toarray()"
   ]
  },
  {
   "cell_type": "code",
   "execution_count": null,
   "metadata": {},
   "outputs": [],
   "source": [
    "#X = np.array(X, dtype=np.float32)"
   ]
  },
  {
   "cell_type": "code",
   "execution_count": null,
   "metadata": {},
   "outputs": [],
   "source": [
    "#X[15].astype(int)"
   ]
  },
  {
   "cell_type": "markdown",
   "metadata": {},
   "source": [
    "### Import SKLEARN train_test_split and split dataset\n",
    "<p>Split data into training and test sets 80/20"
   ]
  },
  {
   "cell_type": "code",
   "execution_count": 9,
   "metadata": {},
   "outputs": [],
   "source": [
    "from sklearn.model_selection import train_test_split\n",
    "x_train, x_test, y_train, y_test = train_test_split(X, y, test_size=0.2, random_state=0)"
   ]
  },
  {
   "cell_type": "code",
   "execution_count": 10,
   "metadata": {},
   "outputs": [
    {
     "data": {
      "text/html": [
       "<style>#sk-container-id-1 {color: black;}#sk-container-id-1 pre{padding: 0;}#sk-container-id-1 div.sk-toggleable {background-color: white;}#sk-container-id-1 label.sk-toggleable__label {cursor: pointer;display: block;width: 100%;margin-bottom: 0;padding: 0.3em;box-sizing: border-box;text-align: center;}#sk-container-id-1 label.sk-toggleable__label-arrow:before {content: \"▸\";float: left;margin-right: 0.25em;color: #696969;}#sk-container-id-1 label.sk-toggleable__label-arrow:hover:before {color: black;}#sk-container-id-1 div.sk-estimator:hover label.sk-toggleable__label-arrow:before {color: black;}#sk-container-id-1 div.sk-toggleable__content {max-height: 0;max-width: 0;overflow: hidden;text-align: left;background-color: #f0f8ff;}#sk-container-id-1 div.sk-toggleable__content pre {margin: 0.2em;color: black;border-radius: 0.25em;background-color: #f0f8ff;}#sk-container-id-1 input.sk-toggleable__control:checked~div.sk-toggleable__content {max-height: 200px;max-width: 100%;overflow: auto;}#sk-container-id-1 input.sk-toggleable__control:checked~label.sk-toggleable__label-arrow:before {content: \"▾\";}#sk-container-id-1 div.sk-estimator input.sk-toggleable__control:checked~label.sk-toggleable__label {background-color: #d4ebff;}#sk-container-id-1 div.sk-label input.sk-toggleable__control:checked~label.sk-toggleable__label {background-color: #d4ebff;}#sk-container-id-1 input.sk-hidden--visually {border: 0;clip: rect(1px 1px 1px 1px);clip: rect(1px, 1px, 1px, 1px);height: 1px;margin: -1px;overflow: hidden;padding: 0;position: absolute;width: 1px;}#sk-container-id-1 div.sk-estimator {font-family: monospace;background-color: #f0f8ff;border: 1px dotted black;border-radius: 0.25em;box-sizing: border-box;margin-bottom: 0.5em;}#sk-container-id-1 div.sk-estimator:hover {background-color: #d4ebff;}#sk-container-id-1 div.sk-parallel-item::after {content: \"\";width: 100%;border-bottom: 1px solid gray;flex-grow: 1;}#sk-container-id-1 div.sk-label:hover label.sk-toggleable__label {background-color: #d4ebff;}#sk-container-id-1 div.sk-serial::before {content: \"\";position: absolute;border-left: 1px solid gray;box-sizing: border-box;top: 0;bottom: 0;left: 50%;z-index: 0;}#sk-container-id-1 div.sk-serial {display: flex;flex-direction: column;align-items: center;background-color: white;padding-right: 0.2em;padding-left: 0.2em;position: relative;}#sk-container-id-1 div.sk-item {position: relative;z-index: 1;}#sk-container-id-1 div.sk-parallel {display: flex;align-items: stretch;justify-content: center;background-color: white;position: relative;}#sk-container-id-1 div.sk-item::before, #sk-container-id-1 div.sk-parallel-item::before {content: \"\";position: absolute;border-left: 1px solid gray;box-sizing: border-box;top: 0;bottom: 0;left: 50%;z-index: -1;}#sk-container-id-1 div.sk-parallel-item {display: flex;flex-direction: column;z-index: 1;position: relative;background-color: white;}#sk-container-id-1 div.sk-parallel-item:first-child::after {align-self: flex-end;width: 50%;}#sk-container-id-1 div.sk-parallel-item:last-child::after {align-self: flex-start;width: 50%;}#sk-container-id-1 div.sk-parallel-item:only-child::after {width: 0;}#sk-container-id-1 div.sk-dashed-wrapped {border: 1px dashed gray;margin: 0 0.4em 0.5em 0.4em;box-sizing: border-box;padding-bottom: 0.4em;background-color: white;}#sk-container-id-1 div.sk-label label {font-family: monospace;font-weight: bold;display: inline-block;line-height: 1.2em;}#sk-container-id-1 div.sk-label-container {text-align: center;}#sk-container-id-1 div.sk-container {/* jupyter's `normalize.less` sets `[hidden] { display: none; }` but bootstrap.min.css set `[hidden] { display: none !important; }` so we also need the `!important` here to be able to override the default hidden behavior on the sphinx rendered scikit-learn.org. See: https://github.com/scikit-learn/scikit-learn/issues/21755 */display: inline-block !important;position: relative;}#sk-container-id-1 div.sk-text-repr-fallback {display: none;}</style><div id=\"sk-container-id-1\" class=\"sk-top-container\"><div class=\"sk-text-repr-fallback\"><pre>LinearRegression()</pre><b>In a Jupyter environment, please rerun this cell to show the HTML representation or trust the notebook. <br />On GitHub, the HTML representation is unable to render, please try loading this page with nbviewer.org.</b></div><div class=\"sk-container\" hidden><div class=\"sk-item\"><div class=\"sk-estimator sk-toggleable\"><input class=\"sk-toggleable__control sk-hidden--visually\" id=\"sk-estimator-id-1\" type=\"checkbox\" checked><label for=\"sk-estimator-id-1\" class=\"sk-toggleable__label sk-toggleable__label-arrow\">LinearRegression</label><div class=\"sk-toggleable__content\"><pre>LinearRegression()</pre></div></div></div></div></div>"
      ],
      "text/plain": [
       "LinearRegression()"
      ]
     },
     "execution_count": 10,
     "metadata": {},
     "output_type": "execute_result"
    }
   ],
   "source": [
    "from sklearn.linear_model import LinearRegression\n",
    "regress = LinearRegression()\n",
    "regress.fit(x_train, y_train)"
   ]
  },
  {
   "cell_type": "markdown",
   "metadata": {},
   "source": [
    "## Build a pipeline\n",
    "<p>Build a pipeline to encode columns and apply algorithm</p>\n",
    "<p>https://www.analyticsvidhya.com/blog/2021/05/understanding-column-transformer-and-machine-learning-pipelines/</p>"
   ]
  },
  {
   "cell_type": "code",
   "execution_count": 11,
   "metadata": {},
   "outputs": [],
   "source": [
    "from sklearn.pipeline import make_pipeline"
   ]
  },
  {
   "cell_type": "code",
   "execution_count": 12,
   "metadata": {},
   "outputs": [],
   "source": [
    "pipe = make_pipeline(column_trans,regress)"
   ]
  },
  {
   "cell_type": "markdown",
   "metadata": {},
   "source": [
    "### Try predict some populations"
   ]
  },
  {
   "cell_type": "code",
   "execution_count": 13,
   "metadata": {},
   "outputs": [
    {
     "data": {
      "text/plain": [
       "array([  67850.35420571,  219729.4378891 ,  121157.01078669, ...,\n",
       "        193507.49532321,  221283.51692474, 1339059.68512294])"
      ]
     },
     "execution_count": 13,
     "metadata": {},
     "output_type": "execute_result"
    }
   ],
   "source": [
    "y_pred = regress.predict(x_test)\n",
    "y_pred"
   ]
  },
  {
   "cell_type": "code",
   "execution_count": 14,
   "metadata": {},
   "outputs": [
    {
     "data": {
      "text/plain": [
       "<1x27 sparse matrix of type '<class 'numpy.float64'>'\n",
       "\twith 2 stored elements in Compressed Sparse Row format>"
      ]
     },
     "execution_count": 14,
     "metadata": {},
     "output_type": "execute_result"
    }
   ],
   "source": [
    "x_test[0]"
   ]
  },
  {
   "cell_type": "code",
   "execution_count": 15,
   "metadata": {},
   "outputs": [
    {
     "name": "stdout",
     "output_type": "stream",
     "text": [
      "[('onehotencoder', OneHotEncoder(), ['County']), ('remainder', 'passthrough', [1])]\n"
     ]
    }
   ],
   "source": [
    "#x_test.shape\n",
    "print(column_trans.transformers_)"
   ]
  },
  {
   "cell_type": "markdown",
   "metadata": {},
   "source": [
    "<p>"
   ]
  },
  {
   "cell_type": "code",
   "execution_count": 16,
   "metadata": {},
   "outputs": [
    {
     "data": {
      "text/plain": [
       "array([-1.25736435e+05, -1.06261764e+05, -6.33007975e+04,  3.53184291e+05,\n",
       "       -2.18861216e+04,  1.15408385e+06,  7.18219166e+04, -3.46231204e+04,\n",
       "        3.57896560e+04, -8.37323802e+04, -9.97447609e+04, -1.47376398e+05,\n",
       "        1.13836235e+04, -1.39309624e+05, -5.64507185e+04, -4.78057380e+04,\n",
       "        1.00857398e+04, -1.17125480e+05, -1.02747902e+05, -1.14923870e+05,\n",
       "       -1.14795513e+05, -2.10099945e+04, -6.66579772e+04, -9.44367207e+04,\n",
       "       -3.52824015e+04, -4.31413610e+04,  5.18026345e+02])"
      ]
     },
     "execution_count": 16,
     "metadata": {},
     "output_type": "execute_result"
    }
   ],
   "source": [
    "#Getting coefficient m slope\n",
    "regress.coef_"
   ]
  },
  {
   "cell_type": "code",
   "execution_count": 17,
   "metadata": {},
   "outputs": [
    {
     "data": {
      "text/plain": [
       "-859365.2773672838"
      ]
     },
     "execution_count": 17,
     "metadata": {},
     "output_type": "execute_result"
    }
   ],
   "source": [
    "#Getting the intercept c where x is 0\n",
    "regress.intercept_"
   ]
  },
  {
   "cell_type": "markdown",
   "metadata": {},
   "source": [
    "### Metrics R2 Value\n",
    "<p>Small R squared would suggest good match to the data"
   ]
  },
  {
   "cell_type": "code",
   "execution_count": 19,
   "metadata": {},
   "outputs": [
    {
     "data": {
      "text/plain": [
       "0.9969393509210698"
      ]
     },
     "execution_count": 19,
     "metadata": {},
     "output_type": "execute_result"
    }
   ],
   "source": [
    "#Metrics\n",
    "# Calculating the R squared value\n",
    "from sklearn.metrics import r2_score\n",
    "r2_score(y_test, y_pred)"
   ]
  },
  {
   "cell_type": "markdown",
   "metadata": {},
   "source": [
    "<p>This didn't work, will retry in the next iteration"
   ]
  },
  {
   "cell_type": "code",
   "execution_count": null,
   "metadata": {},
   "outputs": [],
   "source": [
    "#from sklearn.model_selection import cross_val_score\n",
    "#cross_val_score(regress, X,y,cv=5, scoring='accuracy').mean()"
   ]
  },
  {
   "cell_type": "markdown",
   "metadata": {},
   "source": [
    "## Make predictions on new data"
   ]
  },
  {
   "cell_type": "code",
   "execution_count": 394,
   "metadata": {},
   "outputs": [],
   "source": [
    "#Make a dataframe\n",
    "data = {'County': ['DUBLIN'], 'Year': [2010]} \n",
    "prediction_input =pd.DataFrame(data)\n",
    "#prediction_input = prediction_input[:, 0:]"
   ]
  },
  {
   "cell_type": "code",
   "execution_count": 395,
   "metadata": {},
   "outputs": [
    {
     "data": {
      "text/plain": [
       "array([1335951.88045234])"
      ]
     },
     "execution_count": 395,
     "metadata": {},
     "output_type": "execute_result"
    }
   ],
   "source": [
    "pipe.predict(prediction_input)"
   ]
  },
  {
   "cell_type": "markdown",
   "metadata": {},
   "source": [
    "<p>This prediction is pretty close to the actual figure."
   ]
  },
  {
   "cell_type": "code",
   "execution_count": 25,
   "metadata": {},
   "outputs": [
    {
     "data": {
      "text/html": [
       "<div>\n",
       "<style scoped>\n",
       "    .dataframe tbody tr th:only-of-type {\n",
       "        vertical-align: middle;\n",
       "    }\n",
       "\n",
       "    .dataframe tbody tr th {\n",
       "        vertical-align: top;\n",
       "    }\n",
       "\n",
       "    .dataframe thead th {\n",
       "        text-align: right;\n",
       "    }\n",
       "</style>\n",
       "<table border=\"1\" class=\"dataframe\">\n",
       "  <thead>\n",
       "    <tr style=\"text-align: right;\">\n",
       "      <th></th>\n",
       "      <th>Unnamed: 0</th>\n",
       "      <th>County</th>\n",
       "      <th>Price</th>\n",
       "      <th>Property Size Description</th>\n",
       "      <th>Inflation</th>\n",
       "      <th>Year</th>\n",
       "      <th>Population</th>\n",
       "      <th>Average</th>\n",
       "      <th>AREA</th>\n",
       "      <th>Population Density</th>\n",
       "    </tr>\n",
       "  </thead>\n",
       "  <tbody>\n",
       "    <tr>\n",
       "      <th>19070</th>\n",
       "      <td>19070</td>\n",
       "      <td>DUBLIN</td>\n",
       "      <td>567046.00</td>\n",
       "      <td>greater than 125 sq metres</td>\n",
       "      <td>0.633777</td>\n",
       "      <td>2010</td>\n",
       "      <td>1255890</td>\n",
       "      <td>251976.25</td>\n",
       "      <td>925.760879</td>\n",
       "      <td>1356.6</td>\n",
       "    </tr>\n",
       "    <tr>\n",
       "      <th>19071</th>\n",
       "      <td>19071</td>\n",
       "      <td>DUBLIN</td>\n",
       "      <td>255375.00</td>\n",
       "      <td>less than 38 sq metres</td>\n",
       "      <td>0.633777</td>\n",
       "      <td>2010</td>\n",
       "      <td>1255890</td>\n",
       "      <td>251976.25</td>\n",
       "      <td>925.760879</td>\n",
       "      <td>1356.6</td>\n",
       "    </tr>\n",
       "    <tr>\n",
       "      <th>19072</th>\n",
       "      <td>19072</td>\n",
       "      <td>DUBLIN</td>\n",
       "      <td>300999.73</td>\n",
       "      <td>greater than or equal to 38 sq metres and less...</td>\n",
       "      <td>0.633777</td>\n",
       "      <td>2010</td>\n",
       "      <td>1255890</td>\n",
       "      <td>251976.25</td>\n",
       "      <td>925.760879</td>\n",
       "      <td>1356.6</td>\n",
       "    </tr>\n",
       "    <tr>\n",
       "      <th>19073</th>\n",
       "      <td>19073</td>\n",
       "      <td>DUBLIN</td>\n",
       "      <td>368875.00</td>\n",
       "      <td>greater than or equal to 38 sq metres and less...</td>\n",
       "      <td>0.633777</td>\n",
       "      <td>2010</td>\n",
       "      <td>1255890</td>\n",
       "      <td>251976.25</td>\n",
       "      <td>925.760879</td>\n",
       "      <td>1356.6</td>\n",
       "    </tr>\n",
       "    <tr>\n",
       "      <th>19074</th>\n",
       "      <td>19074</td>\n",
       "      <td>DUBLIN</td>\n",
       "      <td>329093.25</td>\n",
       "      <td>greater than or equal to 38 sq metres and less...</td>\n",
       "      <td>0.633777</td>\n",
       "      <td>2010</td>\n",
       "      <td>1255890</td>\n",
       "      <td>251976.25</td>\n",
       "      <td>925.760879</td>\n",
       "      <td>1356.6</td>\n",
       "    </tr>\n",
       "    <tr>\n",
       "      <th>...</th>\n",
       "      <td>...</td>\n",
       "      <td>...</td>\n",
       "      <td>...</td>\n",
       "      <td>...</td>\n",
       "      <td>...</td>\n",
       "      <td>...</td>\n",
       "      <td>...</td>\n",
       "      <td>...</td>\n",
       "      <td>...</td>\n",
       "      <td>...</td>\n",
       "    </tr>\n",
       "    <tr>\n",
       "      <th>24277</th>\n",
       "      <td>24277</td>\n",
       "      <td>DUBLIN</td>\n",
       "      <td>450000.26</td>\n",
       "      <td>greater than 125 sq metres</td>\n",
       "      <td>0.633777</td>\n",
       "      <td>2010</td>\n",
       "      <td>1255890</td>\n",
       "      <td>251976.25</td>\n",
       "      <td>925.760879</td>\n",
       "      <td>1356.6</td>\n",
       "    </tr>\n",
       "    <tr>\n",
       "      <th>24278</th>\n",
       "      <td>24278</td>\n",
       "      <td>DUBLIN</td>\n",
       "      <td>285000.77</td>\n",
       "      <td>greater than or equal to 38 sq metres and less...</td>\n",
       "      <td>0.633777</td>\n",
       "      <td>2010</td>\n",
       "      <td>1255890</td>\n",
       "      <td>251976.25</td>\n",
       "      <td>925.760879</td>\n",
       "      <td>1356.6</td>\n",
       "    </tr>\n",
       "    <tr>\n",
       "      <th>24279</th>\n",
       "      <td>24279</td>\n",
       "      <td>DUBLIN</td>\n",
       "      <td>201462.50</td>\n",
       "      <td>greater than or equal to 38 sq metres and less...</td>\n",
       "      <td>0.633777</td>\n",
       "      <td>2010</td>\n",
       "      <td>1255890</td>\n",
       "      <td>251976.25</td>\n",
       "      <td>925.760879</td>\n",
       "      <td>1356.6</td>\n",
       "    </tr>\n",
       "    <tr>\n",
       "      <th>24280</th>\n",
       "      <td>24280</td>\n",
       "      <td>DUBLIN</td>\n",
       "      <td>465350.00</td>\n",
       "      <td>greater than or equal to 38 sq metres and less...</td>\n",
       "      <td>0.633777</td>\n",
       "      <td>2010</td>\n",
       "      <td>1255890</td>\n",
       "      <td>251976.25</td>\n",
       "      <td>925.760879</td>\n",
       "      <td>1356.6</td>\n",
       "    </tr>\n",
       "    <tr>\n",
       "      <th>24281</th>\n",
       "      <td>24281</td>\n",
       "      <td>DUBLIN</td>\n",
       "      <td>209999.97</td>\n",
       "      <td>greater than or equal to 38 sq metres and less...</td>\n",
       "      <td>0.633777</td>\n",
       "      <td>2010</td>\n",
       "      <td>1255890</td>\n",
       "      <td>251976.25</td>\n",
       "      <td>925.760879</td>\n",
       "      <td>1356.6</td>\n",
       "    </tr>\n",
       "  </tbody>\n",
       "</table>\n",
       "<p>5212 rows × 10 columns</p>\n",
       "</div>"
      ],
      "text/plain": [
       "       Unnamed: 0  County      Price  \\\n",
       "19070       19070  DUBLIN  567046.00   \n",
       "19071       19071  DUBLIN  255375.00   \n",
       "19072       19072  DUBLIN  300999.73   \n",
       "19073       19073  DUBLIN  368875.00   \n",
       "19074       19074  DUBLIN  329093.25   \n",
       "...           ...     ...        ...   \n",
       "24277       24277  DUBLIN  450000.26   \n",
       "24278       24278  DUBLIN  285000.77   \n",
       "24279       24279  DUBLIN  201462.50   \n",
       "24280       24280  DUBLIN  465350.00   \n",
       "24281       24281  DUBLIN  209999.97   \n",
       "\n",
       "                               Property Size Description  Inflation  Year  \\\n",
       "19070                         greater than 125 sq metres   0.633777  2010   \n",
       "19071                             less than 38 sq metres   0.633777  2010   \n",
       "19072  greater than or equal to 38 sq metres and less...   0.633777  2010   \n",
       "19073  greater than or equal to 38 sq metres and less...   0.633777  2010   \n",
       "19074  greater than or equal to 38 sq metres and less...   0.633777  2010   \n",
       "...                                                  ...        ...   ...   \n",
       "24277                         greater than 125 sq metres   0.633777  2010   \n",
       "24278  greater than or equal to 38 sq metres and less...   0.633777  2010   \n",
       "24279  greater than or equal to 38 sq metres and less...   0.633777  2010   \n",
       "24280  greater than or equal to 38 sq metres and less...   0.633777  2010   \n",
       "24281  greater than or equal to 38 sq metres and less...   0.633777  2010   \n",
       "\n",
       "       Population    Average        AREA  Population Density  \n",
       "19070     1255890  251976.25  925.760879              1356.6  \n",
       "19071     1255890  251976.25  925.760879              1356.6  \n",
       "19072     1255890  251976.25  925.760879              1356.6  \n",
       "19073     1255890  251976.25  925.760879              1356.6  \n",
       "19074     1255890  251976.25  925.760879              1356.6  \n",
       "...           ...        ...         ...                 ...  \n",
       "24277     1255890  251976.25  925.760879              1356.6  \n",
       "24278     1255890  251976.25  925.760879              1356.6  \n",
       "24279     1255890  251976.25  925.760879              1356.6  \n",
       "24280     1255890  251976.25  925.760879              1356.6  \n",
       "24281     1255890  251976.25  925.760879              1356.6  \n",
       "\n",
       "[5212 rows x 10 columns]"
      ]
     },
     "execution_count": 25,
     "metadata": {},
     "output_type": "execute_result"
    }
   ],
   "source": [
    "ds[(ds['County']=='DUBLIN') & (ds['Year'] ==2010)]"
   ]
  },
  {
   "cell_type": "code",
   "execution_count": 26,
   "metadata": {},
   "outputs": [
    {
     "data": {
      "text/plain": [
       "array([1310050.20979096])"
      ]
     },
     "execution_count": 26,
     "metadata": {},
     "output_type": "execute_result"
    }
   ],
   "source": [
    "#Make a dataframe\n",
    "data = {'County': ['DUBLIN'], 'Year': [1960]} \n",
    "prediction_input =pd.DataFrame(data)\n",
    "pipe.predict(prediction_input)"
   ]
  },
  {
   "cell_type": "markdown",
   "metadata": {},
   "source": [
    "<p>This prediction is not close at all. This model is trying to fit a line to an exponential curve and is not a good model for solving a question like exponential population growth.</p>\n",
    "<p>Will try an exponential curve fitting model in next iteration</p>"
   ]
  },
  {
   "cell_type": "code",
   "execution_count": 27,
   "metadata": {},
   "outputs": [
    {
     "data": {
      "text/html": [
       "<div>\n",
       "<style scoped>\n",
       "    .dataframe tbody tr th:only-of-type {\n",
       "        vertical-align: middle;\n",
       "    }\n",
       "\n",
       "    .dataframe tbody tr th {\n",
       "        vertical-align: top;\n",
       "    }\n",
       "\n",
       "    .dataframe thead th {\n",
       "        text-align: right;\n",
       "    }\n",
       "</style>\n",
       "<table border=\"1\" class=\"dataframe\">\n",
       "  <thead>\n",
       "    <tr style=\"text-align: right;\">\n",
       "      <th></th>\n",
       "      <th>Unnamed: 0</th>\n",
       "      <th>County</th>\n",
       "      <th>Price</th>\n",
       "      <th>Property Size Description</th>\n",
       "      <th>Inflation</th>\n",
       "      <th>Year</th>\n",
       "      <th>Population</th>\n",
       "      <th>Average</th>\n",
       "      <th>AREA</th>\n",
       "      <th>Population Density</th>\n",
       "    </tr>\n",
       "  </thead>\n",
       "  <tbody>\n",
       "    <tr>\n",
       "      <th>3117</th>\n",
       "      <td>3117</td>\n",
       "      <td>DUBLIN</td>\n",
       "      <td>NaN</td>\n",
       "      <td>NaN</td>\n",
       "      <td>NaN</td>\n",
       "      <td>1960</td>\n",
       "      <td>715821</td>\n",
       "      <td>NaN</td>\n",
       "      <td>925.760879</td>\n",
       "      <td>773.22</td>\n",
       "    </tr>\n",
       "  </tbody>\n",
       "</table>\n",
       "</div>"
      ],
      "text/plain": [
       "      Unnamed: 0  County  Price Property Size Description  Inflation  Year  \\\n",
       "3117        3117  DUBLIN    NaN                       NaN        NaN  1960   \n",
       "\n",
       "      Population  Average        AREA  Population Density  \n",
       "3117      715821      NaN  925.760879              773.22  "
      ]
     },
     "execution_count": 27,
     "metadata": {},
     "output_type": "execute_result"
    }
   ],
   "source": [
    "ds[(ds['County']=='DUBLIN') & (ds['Year'] ==1960)]"
   ]
  },
  {
   "cell_type": "markdown",
   "metadata": {},
   "source": [
    "## Now prediction of Price based on population density"
   ]
  },
  {
   "cell_type": "code",
   "execution_count": 396,
   "metadata": {},
   "outputs": [
    {
     "data": {
      "text/html": [
       "<div>\n",
       "<style scoped>\n",
       "    .dataframe tbody tr th:only-of-type {\n",
       "        vertical-align: middle;\n",
       "    }\n",
       "\n",
       "    .dataframe tbody tr th {\n",
       "        vertical-align: top;\n",
       "    }\n",
       "\n",
       "    .dataframe thead th {\n",
       "        text-align: right;\n",
       "    }\n",
       "</style>\n",
       "<table border=\"1\" class=\"dataframe\">\n",
       "  <thead>\n",
       "    <tr style=\"text-align: right;\">\n",
       "      <th></th>\n",
       "      <th>Unnamed: 0</th>\n",
       "      <th>County</th>\n",
       "      <th>Price</th>\n",
       "      <th>Property Size Description</th>\n",
       "      <th>Inflation</th>\n",
       "      <th>Year</th>\n",
       "      <th>Population</th>\n",
       "      <th>Average</th>\n",
       "      <th>AREA</th>\n",
       "      <th>Population Density</th>\n",
       "      <th>Pop Density - Normal</th>\n",
       "      <th>Price-No Inflation</th>\n",
       "      <th>Price by House Size</th>\n",
       "    </tr>\n",
       "  </thead>\n",
       "  <tbody>\n",
       "    <tr>\n",
       "      <th>0</th>\n",
       "      <td>0</td>\n",
       "      <td>DONEGAL</td>\n",
       "      <td>NaN</td>\n",
       "      <td>NaN</td>\n",
       "      <td>NaN</td>\n",
       "      <td>1841</td>\n",
       "      <td>296448.0</td>\n",
       "      <td>NaN</td>\n",
       "      <td>4860.754357</td>\n",
       "      <td>60.99</td>\n",
       "      <td>0.038722</td>\n",
       "      <td>NaN</td>\n",
       "      <td>NaN</td>\n",
       "    </tr>\n",
       "    <tr>\n",
       "      <th>1</th>\n",
       "      <td>1</td>\n",
       "      <td>CAVAN</td>\n",
       "      <td>NaN</td>\n",
       "      <td>NaN</td>\n",
       "      <td>NaN</td>\n",
       "      <td>1841</td>\n",
       "      <td>243158.0</td>\n",
       "      <td>NaN</td>\n",
       "      <td>1931.224564</td>\n",
       "      <td>125.91</td>\n",
       "      <td>0.079938</td>\n",
       "      <td>NaN</td>\n",
       "      <td>NaN</td>\n",
       "    </tr>\n",
       "    <tr>\n",
       "      <th>2</th>\n",
       "      <td>2</td>\n",
       "      <td>SLIGO</td>\n",
       "      <td>NaN</td>\n",
       "      <td>NaN</td>\n",
       "      <td>NaN</td>\n",
       "      <td>1841</td>\n",
       "      <td>180886.0</td>\n",
       "      <td>NaN</td>\n",
       "      <td>1836.083206</td>\n",
       "      <td>98.52</td>\n",
       "      <td>0.062549</td>\n",
       "      <td>NaN</td>\n",
       "      <td>NaN</td>\n",
       "    </tr>\n",
       "    <tr>\n",
       "      <th>3</th>\n",
       "      <td>3</td>\n",
       "      <td>ROSCOMMON</td>\n",
       "      <td>NaN</td>\n",
       "      <td>NaN</td>\n",
       "      <td>NaN</td>\n",
       "      <td>1841</td>\n",
       "      <td>253591.0</td>\n",
       "      <td>NaN</td>\n",
       "      <td>2547.136217</td>\n",
       "      <td>99.56</td>\n",
       "      <td>0.063209</td>\n",
       "      <td>NaN</td>\n",
       "      <td>NaN</td>\n",
       "    </tr>\n",
       "    <tr>\n",
       "      <th>4</th>\n",
       "      <td>4</td>\n",
       "      <td>MAYO</td>\n",
       "      <td>NaN</td>\n",
       "      <td>NaN</td>\n",
       "      <td>NaN</td>\n",
       "      <td>1841</td>\n",
       "      <td>388887.0</td>\n",
       "      <td>NaN</td>\n",
       "      <td>5587.525209</td>\n",
       "      <td>69.60</td>\n",
       "      <td>0.044188</td>\n",
       "      <td>NaN</td>\n",
       "      <td>NaN</td>\n",
       "    </tr>\n",
       "  </tbody>\n",
       "</table>\n",
       "</div>"
      ],
      "text/plain": [
       "   Unnamed: 0     County  Price Property Size Description  Inflation  Year  \\\n",
       "0           0    DONEGAL    NaN                       NaN        NaN  1841   \n",
       "1           1      CAVAN    NaN                       NaN        NaN  1841   \n",
       "2           2      SLIGO    NaN                       NaN        NaN  1841   \n",
       "3           3  ROSCOMMON    NaN                       NaN        NaN  1841   \n",
       "4           4       MAYO    NaN                       NaN        NaN  1841   \n",
       "\n",
       "   Population  Average         AREA  Population Density  Pop Density - Normal  \\\n",
       "0    296448.0      NaN  4860.754357               60.99              0.038722   \n",
       "1    243158.0      NaN  1931.224564              125.91              0.079938   \n",
       "2    180886.0      NaN  1836.083206               98.52              0.062549   \n",
       "3    253591.0      NaN  2547.136217               99.56              0.063209   \n",
       "4    388887.0      NaN  5587.525209               69.60              0.044188   \n",
       "\n",
       "   Price-No Inflation  Price by House Size  \n",
       "0                 NaN                  NaN  \n",
       "1                 NaN                  NaN  \n",
       "2                 NaN                  NaN  \n",
       "3                 NaN                  NaN  \n",
       "4                 NaN                  NaN  "
      ]
     },
     "execution_count": 396,
     "metadata": {},
     "output_type": "execute_result"
    }
   ],
   "source": [
    "ds.head()"
   ]
  },
  {
   "cell_type": "code",
   "execution_count": 404,
   "metadata": {},
   "outputs": [],
   "source": [
    "#Get rid of NaN rows\n",
    "not_nan = ds[ds['Price by House Size'].notnull()]"
   ]
  },
  {
   "cell_type": "code",
   "execution_count": 407,
   "metadata": {},
   "outputs": [],
   "source": [
    "I= not_nan.loc[:,['Pop Density - Normal']]   \n",
    "j = not_nan.loc[:,'Price by House Size']\n"
   ]
  },
  {
   "cell_type": "code",
   "execution_count": 408,
   "metadata": {},
   "outputs": [],
   "source": [
    "I_train, I_test, j_train, j_test = train_test_split(I, j, test_size=0.2, random_state=0)"
   ]
  },
  {
   "cell_type": "code",
   "execution_count": 411,
   "metadata": {},
   "outputs": [
    {
     "data": {
      "text/html": [
       "<style>#sk-container-id-8 {color: black;}#sk-container-id-8 pre{padding: 0;}#sk-container-id-8 div.sk-toggleable {background-color: white;}#sk-container-id-8 label.sk-toggleable__label {cursor: pointer;display: block;width: 100%;margin-bottom: 0;padding: 0.3em;box-sizing: border-box;text-align: center;}#sk-container-id-8 label.sk-toggleable__label-arrow:before {content: \"▸\";float: left;margin-right: 0.25em;color: #696969;}#sk-container-id-8 label.sk-toggleable__label-arrow:hover:before {color: black;}#sk-container-id-8 div.sk-estimator:hover label.sk-toggleable__label-arrow:before {color: black;}#sk-container-id-8 div.sk-toggleable__content {max-height: 0;max-width: 0;overflow: hidden;text-align: left;background-color: #f0f8ff;}#sk-container-id-8 div.sk-toggleable__content pre {margin: 0.2em;color: black;border-radius: 0.25em;background-color: #f0f8ff;}#sk-container-id-8 input.sk-toggleable__control:checked~div.sk-toggleable__content {max-height: 200px;max-width: 100%;overflow: auto;}#sk-container-id-8 input.sk-toggleable__control:checked~label.sk-toggleable__label-arrow:before {content: \"▾\";}#sk-container-id-8 div.sk-estimator input.sk-toggleable__control:checked~label.sk-toggleable__label {background-color: #d4ebff;}#sk-container-id-8 div.sk-label input.sk-toggleable__control:checked~label.sk-toggleable__label {background-color: #d4ebff;}#sk-container-id-8 input.sk-hidden--visually {border: 0;clip: rect(1px 1px 1px 1px);clip: rect(1px, 1px, 1px, 1px);height: 1px;margin: -1px;overflow: hidden;padding: 0;position: absolute;width: 1px;}#sk-container-id-8 div.sk-estimator {font-family: monospace;background-color: #f0f8ff;border: 1px dotted black;border-radius: 0.25em;box-sizing: border-box;margin-bottom: 0.5em;}#sk-container-id-8 div.sk-estimator:hover {background-color: #d4ebff;}#sk-container-id-8 div.sk-parallel-item::after {content: \"\";width: 100%;border-bottom: 1px solid gray;flex-grow: 1;}#sk-container-id-8 div.sk-label:hover label.sk-toggleable__label {background-color: #d4ebff;}#sk-container-id-8 div.sk-serial::before {content: \"\";position: absolute;border-left: 1px solid gray;box-sizing: border-box;top: 0;bottom: 0;left: 50%;z-index: 0;}#sk-container-id-8 div.sk-serial {display: flex;flex-direction: column;align-items: center;background-color: white;padding-right: 0.2em;padding-left: 0.2em;position: relative;}#sk-container-id-8 div.sk-item {position: relative;z-index: 1;}#sk-container-id-8 div.sk-parallel {display: flex;align-items: stretch;justify-content: center;background-color: white;position: relative;}#sk-container-id-8 div.sk-item::before, #sk-container-id-8 div.sk-parallel-item::before {content: \"\";position: absolute;border-left: 1px solid gray;box-sizing: border-box;top: 0;bottom: 0;left: 50%;z-index: -1;}#sk-container-id-8 div.sk-parallel-item {display: flex;flex-direction: column;z-index: 1;position: relative;background-color: white;}#sk-container-id-8 div.sk-parallel-item:first-child::after {align-self: flex-end;width: 50%;}#sk-container-id-8 div.sk-parallel-item:last-child::after {align-self: flex-start;width: 50%;}#sk-container-id-8 div.sk-parallel-item:only-child::after {width: 0;}#sk-container-id-8 div.sk-dashed-wrapped {border: 1px dashed gray;margin: 0 0.4em 0.5em 0.4em;box-sizing: border-box;padding-bottom: 0.4em;background-color: white;}#sk-container-id-8 div.sk-label label {font-family: monospace;font-weight: bold;display: inline-block;line-height: 1.2em;}#sk-container-id-8 div.sk-label-container {text-align: center;}#sk-container-id-8 div.sk-container {/* jupyter's `normalize.less` sets `[hidden] { display: none; }` but bootstrap.min.css set `[hidden] { display: none !important; }` so we also need the `!important` here to be able to override the default hidden behavior on the sphinx rendered scikit-learn.org. See: https://github.com/scikit-learn/scikit-learn/issues/21755 */display: inline-block !important;position: relative;}#sk-container-id-8 div.sk-text-repr-fallback {display: none;}</style><div id=\"sk-container-id-8\" class=\"sk-top-container\"><div class=\"sk-text-repr-fallback\"><pre>LinearRegression()</pre><b>In a Jupyter environment, please rerun this cell to show the HTML representation or trust the notebook. <br />On GitHub, the HTML representation is unable to render, please try loading this page with nbviewer.org.</b></div><div class=\"sk-container\" hidden><div class=\"sk-item\"><div class=\"sk-estimator sk-toggleable\"><input class=\"sk-toggleable__control sk-hidden--visually\" id=\"sk-estimator-id-8\" type=\"checkbox\" checked><label for=\"sk-estimator-id-8\" class=\"sk-toggleable__label sk-toggleable__label-arrow\">LinearRegression</label><div class=\"sk-toggleable__content\"><pre>LinearRegression()</pre></div></div></div></div></div>"
      ],
      "text/plain": [
       "LinearRegression()"
      ]
     },
     "execution_count": 411,
     "metadata": {},
     "output_type": "execute_result"
    }
   ],
   "source": [
    "regressDensity = LinearRegression()\n",
    "regressDensity.fit(I_train, j_train)"
   ]
  },
  {
   "cell_type": "code",
   "execution_count": 412,
   "metadata": {},
   "outputs": [],
   "source": [
    "price_pred = regressDensity.predict(I_test)"
   ]
  },
  {
   "cell_type": "markdown",
   "metadata": {},
   "source": [
    "<p> This r squared value seems very far off, however this is only using on independent variable and also there is a large gap between the Dublin area and all other areas. May have to split Dublin off and or include more variable is next iteration </p>"
   ]
  },
  {
   "cell_type": "code",
   "execution_count": 413,
   "metadata": {},
   "outputs": [
    {
     "data": {
      "text/plain": [
       "-70541919.08787636"
      ]
     },
     "execution_count": 413,
     "metadata": {},
     "output_type": "execute_result"
    }
   ],
   "source": [
    "r2_score(I_test, price_pred)"
   ]
  }
 ],
 "metadata": {
  "kernelspec": {
   "display_name": "Python 3.11.5 ('base')",
   "language": "python",
   "name": "python3"
  },
  "language_info": {
   "codemirror_mode": {
    "name": "ipython",
    "version": 3
   },
   "file_extension": ".py",
   "mimetype": "text/x-python",
   "name": "python",
   "nbconvert_exporter": "python",
   "pygments_lexer": "ipython3",
   "version": "3.11.5"
  },
  "vscode": {
   "interpreter": {
    "hash": "6531bb92faf8742e331cfb8552913ca8f917c4d670b84465b3e8b7239b9af2c4"
   }
  }
 },
 "nbformat": 4,
 "nbformat_minor": 2
}
